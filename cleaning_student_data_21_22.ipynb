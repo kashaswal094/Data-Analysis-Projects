{
  "cells": [
    {
      "cell_type": "markdown",
      "metadata": {
        "id": "view-in-github",
        "colab_type": "text"
      },
      "source": [
        "<a href=\"https://colab.research.google.com/github/kashaswal094/My-projects/blob/main/cleaning_student_data_21_22.ipynb\" target=\"_parent\"><img src=\"https://colab.research.google.com/assets/colab-badge.svg\" alt=\"Open In Colab\"/></a>"
      ]
    },
    {
      "cell_type": "markdown",
      "source": [
        "Cleaning a student score data : -create a year column -re-arrange column values -create a data with student id with unique teacher id for each subject."
      ],
      "metadata": {
        "id": "S4xkKO79PniR"
      }
    },
    {
      "cell_type": "code",
      "source": [
        "from google.colab import drive\n",
        "drive.mount('/content/drive')"
      ],
      "metadata": {
        "colab": {
          "base_uri": "https://localhost:8080/"
        },
        "id": "8VdJo3hRPuL7",
        "outputId": "f6707457-4e4a-427b-f2c5-f385e9192732"
      },
      "execution_count": 1,
      "outputs": [
        {
          "output_type": "stream",
          "name": "stdout",
          "text": [
            "Mounted at /content/drive\n"
          ]
        }
      ]
    },
    {
      "cell_type": "code",
      "execution_count": 3,
      "metadata": {
        "id": "T8nOBv_tqv3_"
      },
      "outputs": [],
      "source": [
        "import warnings\n",
        "import numpy as np\n",
        "import pandas as pd\n",
        "\n",
        "warnings.filterwarnings('ignore')"
      ]
    },
    {
      "cell_type": "code",
      "execution_count": 13,
      "metadata": {
        "id": "3rUF-IrOqv4D",
        "colab": {
          "base_uri": "https://localhost:8080/",
          "height": 360
        },
        "outputId": "35c07b9f-58c2-4c94-d8ce-cc6f53644bf0"
      },
      "outputs": [
        {
          "output_type": "execute_result",
          "data": {
            "text/plain": [
              "        Year  Student ID  Grade  Building  Race/Ethnicity  FRL Status  \\\n",
              "0  2021-2022      216067      4       410               5         NaN   \n",
              "1  2021-2022      126554      5       410               5         NaN   \n",
              "2  2021-2022      291852      4       410               0         NaN   \n",
              "3  2021-2022      678628      5       410               5         NaN   \n",
              "4  2021-2022      297205      4       410               5         NaN   \n",
              "\n",
              "  ELL Status SPED Status General Education Teacher ID ELA Teacher ID  \\\n",
              "0          N           N                       141246         141246   \n",
              "1          N           N                        39698          39698   \n",
              "2          Y           N                        40651          40651   \n",
              "3          N           N                       156375         156375   \n",
              "4          N           Y                       192917         192917   \n",
              "\n",
              "  Math Teacher ID ELA Standardized Test Math Standardized Test ELA Score  \\\n",
              "0          141246                  SBAC                   SBAC      2781   \n",
              "1           39698                  SBAC                   SBAC      2431   \n",
              "2           40651                  SBAC                   SBAC      2473   \n",
              "3          156375                  SBAC                   SBAC      2397   \n",
              "4          192917                  SBAC                   SBAC      2338   \n",
              "\n",
              "  ELA Proficiency Level Math Score Math Proficiency Level  \n",
              "0                     4       2659                      4  \n",
              "1                     1       2468                      2  \n",
              "2                     3       2430                      2  \n",
              "3                     1       2340                      1  \n",
              "4                     1       2376                      1  "
            ],
            "text/html": [
              "\n",
              "  <div id=\"df-8fe66cbf-7adc-41c4-89b8-7d966feb1904\" class=\"colab-df-container\">\n",
              "    <div>\n",
              "<style scoped>\n",
              "    .dataframe tbody tr th:only-of-type {\n",
              "        vertical-align: middle;\n",
              "    }\n",
              "\n",
              "    .dataframe tbody tr th {\n",
              "        vertical-align: top;\n",
              "    }\n",
              "\n",
              "    .dataframe thead th {\n",
              "        text-align: right;\n",
              "    }\n",
              "</style>\n",
              "<table border=\"1\" class=\"dataframe\">\n",
              "  <thead>\n",
              "    <tr style=\"text-align: right;\">\n",
              "      <th></th>\n",
              "      <th>Year</th>\n",
              "      <th>Student ID</th>\n",
              "      <th>Grade</th>\n",
              "      <th>Building</th>\n",
              "      <th>Race/Ethnicity</th>\n",
              "      <th>FRL Status</th>\n",
              "      <th>ELL Status</th>\n",
              "      <th>SPED Status</th>\n",
              "      <th>General Education Teacher ID</th>\n",
              "      <th>ELA Teacher ID</th>\n",
              "      <th>Math Teacher ID</th>\n",
              "      <th>ELA Standardized Test</th>\n",
              "      <th>Math Standardized Test</th>\n",
              "      <th>ELA Score</th>\n",
              "      <th>ELA Proficiency Level</th>\n",
              "      <th>Math Score</th>\n",
              "      <th>Math Proficiency Level</th>\n",
              "    </tr>\n",
              "  </thead>\n",
              "  <tbody>\n",
              "    <tr>\n",
              "      <th>0</th>\n",
              "      <td>2021-2022</td>\n",
              "      <td>216067</td>\n",
              "      <td>4</td>\n",
              "      <td>410</td>\n",
              "      <td>5</td>\n",
              "      <td>NaN</td>\n",
              "      <td>N</td>\n",
              "      <td>N</td>\n",
              "      <td>141246</td>\n",
              "      <td>141246</td>\n",
              "      <td>141246</td>\n",
              "      <td>SBAC</td>\n",
              "      <td>SBAC</td>\n",
              "      <td>2781</td>\n",
              "      <td>4</td>\n",
              "      <td>2659</td>\n",
              "      <td>4</td>\n",
              "    </tr>\n",
              "    <tr>\n",
              "      <th>1</th>\n",
              "      <td>2021-2022</td>\n",
              "      <td>126554</td>\n",
              "      <td>5</td>\n",
              "      <td>410</td>\n",
              "      <td>5</td>\n",
              "      <td>NaN</td>\n",
              "      <td>N</td>\n",
              "      <td>N</td>\n",
              "      <td>39698</td>\n",
              "      <td>39698</td>\n",
              "      <td>39698</td>\n",
              "      <td>SBAC</td>\n",
              "      <td>SBAC</td>\n",
              "      <td>2431</td>\n",
              "      <td>1</td>\n",
              "      <td>2468</td>\n",
              "      <td>2</td>\n",
              "    </tr>\n",
              "    <tr>\n",
              "      <th>2</th>\n",
              "      <td>2021-2022</td>\n",
              "      <td>291852</td>\n",
              "      <td>4</td>\n",
              "      <td>410</td>\n",
              "      <td>0</td>\n",
              "      <td>NaN</td>\n",
              "      <td>Y</td>\n",
              "      <td>N</td>\n",
              "      <td>40651</td>\n",
              "      <td>40651</td>\n",
              "      <td>40651</td>\n",
              "      <td>SBAC</td>\n",
              "      <td>SBAC</td>\n",
              "      <td>2473</td>\n",
              "      <td>3</td>\n",
              "      <td>2430</td>\n",
              "      <td>2</td>\n",
              "    </tr>\n",
              "    <tr>\n",
              "      <th>3</th>\n",
              "      <td>2021-2022</td>\n",
              "      <td>678628</td>\n",
              "      <td>5</td>\n",
              "      <td>410</td>\n",
              "      <td>5</td>\n",
              "      <td>NaN</td>\n",
              "      <td>N</td>\n",
              "      <td>N</td>\n",
              "      <td>156375</td>\n",
              "      <td>156375</td>\n",
              "      <td>156375</td>\n",
              "      <td>SBAC</td>\n",
              "      <td>SBAC</td>\n",
              "      <td>2397</td>\n",
              "      <td>1</td>\n",
              "      <td>2340</td>\n",
              "      <td>1</td>\n",
              "    </tr>\n",
              "    <tr>\n",
              "      <th>4</th>\n",
              "      <td>2021-2022</td>\n",
              "      <td>297205</td>\n",
              "      <td>4</td>\n",
              "      <td>410</td>\n",
              "      <td>5</td>\n",
              "      <td>NaN</td>\n",
              "      <td>N</td>\n",
              "      <td>Y</td>\n",
              "      <td>192917</td>\n",
              "      <td>192917</td>\n",
              "      <td>192917</td>\n",
              "      <td>SBAC</td>\n",
              "      <td>SBAC</td>\n",
              "      <td>2338</td>\n",
              "      <td>1</td>\n",
              "      <td>2376</td>\n",
              "      <td>1</td>\n",
              "    </tr>\n",
              "  </tbody>\n",
              "</table>\n",
              "</div>\n",
              "    <div class=\"colab-df-buttons\">\n",
              "\n",
              "  <div class=\"colab-df-container\">\n",
              "    <button class=\"colab-df-convert\" onclick=\"convertToInteractive('df-8fe66cbf-7adc-41c4-89b8-7d966feb1904')\"\n",
              "            title=\"Convert this dataframe to an interactive table.\"\n",
              "            style=\"display:none;\">\n",
              "\n",
              "  <svg xmlns=\"http://www.w3.org/2000/svg\" height=\"24px\" viewBox=\"0 -960 960 960\">\n",
              "    <path d=\"M120-120v-720h720v720H120Zm60-500h600v-160H180v160Zm220 220h160v-160H400v160Zm0 220h160v-160H400v160ZM180-400h160v-160H180v160Zm440 0h160v-160H620v160ZM180-180h160v-160H180v160Zm440 0h160v-160H620v160Z\"/>\n",
              "  </svg>\n",
              "    </button>\n",
              "\n",
              "  <style>\n",
              "    .colab-df-container {\n",
              "      display:flex;\n",
              "      gap: 12px;\n",
              "    }\n",
              "\n",
              "    .colab-df-convert {\n",
              "      background-color: #E8F0FE;\n",
              "      border: none;\n",
              "      border-radius: 50%;\n",
              "      cursor: pointer;\n",
              "      display: none;\n",
              "      fill: #1967D2;\n",
              "      height: 32px;\n",
              "      padding: 0 0 0 0;\n",
              "      width: 32px;\n",
              "    }\n",
              "\n",
              "    .colab-df-convert:hover {\n",
              "      background-color: #E2EBFA;\n",
              "      box-shadow: 0px 1px 2px rgba(60, 64, 67, 0.3), 0px 1px 3px 1px rgba(60, 64, 67, 0.15);\n",
              "      fill: #174EA6;\n",
              "    }\n",
              "\n",
              "    .colab-df-buttons div {\n",
              "      margin-bottom: 4px;\n",
              "    }\n",
              "\n",
              "    [theme=dark] .colab-df-convert {\n",
              "      background-color: #3B4455;\n",
              "      fill: #D2E3FC;\n",
              "    }\n",
              "\n",
              "    [theme=dark] .colab-df-convert:hover {\n",
              "      background-color: #434B5C;\n",
              "      box-shadow: 0px 1px 3px 1px rgba(0, 0, 0, 0.15);\n",
              "      filter: drop-shadow(0px 1px 2px rgba(0, 0, 0, 0.3));\n",
              "      fill: #FFFFFF;\n",
              "    }\n",
              "  </style>\n",
              "\n",
              "    <script>\n",
              "      const buttonEl =\n",
              "        document.querySelector('#df-8fe66cbf-7adc-41c4-89b8-7d966feb1904 button.colab-df-convert');\n",
              "      buttonEl.style.display =\n",
              "        google.colab.kernel.accessAllowed ? 'block' : 'none';\n",
              "\n",
              "      async function convertToInteractive(key) {\n",
              "        const element = document.querySelector('#df-8fe66cbf-7adc-41c4-89b8-7d966feb1904');\n",
              "        const dataTable =\n",
              "          await google.colab.kernel.invokeFunction('convertToInteractive',\n",
              "                                                    [key], {});\n",
              "        if (!dataTable) return;\n",
              "\n",
              "        const docLinkHtml = 'Like what you see? Visit the ' +\n",
              "          '<a target=\"_blank\" href=https://colab.research.google.com/notebooks/data_table.ipynb>data table notebook</a>'\n",
              "          + ' to learn more about interactive tables.';\n",
              "        element.innerHTML = '';\n",
              "        dataTable['output_type'] = 'display_data';\n",
              "        await google.colab.output.renderOutput(dataTable, element);\n",
              "        const docLink = document.createElement('div');\n",
              "        docLink.innerHTML = docLinkHtml;\n",
              "        element.appendChild(docLink);\n",
              "      }\n",
              "    </script>\n",
              "  </div>\n",
              "\n",
              "\n",
              "<div id=\"df-877ceaf0-5597-40c1-92c8-d3dbe0cb09a6\">\n",
              "  <button class=\"colab-df-quickchart\" onclick=\"quickchart('df-877ceaf0-5597-40c1-92c8-d3dbe0cb09a6')\"\n",
              "            title=\"Suggest charts\"\n",
              "            style=\"display:none;\">\n",
              "\n",
              "<svg xmlns=\"http://www.w3.org/2000/svg\" height=\"24px\"viewBox=\"0 0 24 24\"\n",
              "     width=\"24px\">\n",
              "    <g>\n",
              "        <path d=\"M19 3H5c-1.1 0-2 .9-2 2v14c0 1.1.9 2 2 2h14c1.1 0 2-.9 2-2V5c0-1.1-.9-2-2-2zM9 17H7v-7h2v7zm4 0h-2V7h2v10zm4 0h-2v-4h2v4z\"/>\n",
              "    </g>\n",
              "</svg>\n",
              "  </button>\n",
              "\n",
              "<style>\n",
              "  .colab-df-quickchart {\n",
              "      --bg-color: #E8F0FE;\n",
              "      --fill-color: #1967D2;\n",
              "      --hover-bg-color: #E2EBFA;\n",
              "      --hover-fill-color: #174EA6;\n",
              "      --disabled-fill-color: #AAA;\n",
              "      --disabled-bg-color: #DDD;\n",
              "  }\n",
              "\n",
              "  [theme=dark] .colab-df-quickchart {\n",
              "      --bg-color: #3B4455;\n",
              "      --fill-color: #D2E3FC;\n",
              "      --hover-bg-color: #434B5C;\n",
              "      --hover-fill-color: #FFFFFF;\n",
              "      --disabled-bg-color: #3B4455;\n",
              "      --disabled-fill-color: #666;\n",
              "  }\n",
              "\n",
              "  .colab-df-quickchart {\n",
              "    background-color: var(--bg-color);\n",
              "    border: none;\n",
              "    border-radius: 50%;\n",
              "    cursor: pointer;\n",
              "    display: none;\n",
              "    fill: var(--fill-color);\n",
              "    height: 32px;\n",
              "    padding: 0;\n",
              "    width: 32px;\n",
              "  }\n",
              "\n",
              "  .colab-df-quickchart:hover {\n",
              "    background-color: var(--hover-bg-color);\n",
              "    box-shadow: 0 1px 2px rgba(60, 64, 67, 0.3), 0 1px 3px 1px rgba(60, 64, 67, 0.15);\n",
              "    fill: var(--button-hover-fill-color);\n",
              "  }\n",
              "\n",
              "  .colab-df-quickchart-complete:disabled,\n",
              "  .colab-df-quickchart-complete:disabled:hover {\n",
              "    background-color: var(--disabled-bg-color);\n",
              "    fill: var(--disabled-fill-color);\n",
              "    box-shadow: none;\n",
              "  }\n",
              "\n",
              "  .colab-df-spinner {\n",
              "    border: 2px solid var(--fill-color);\n",
              "    border-color: transparent;\n",
              "    border-bottom-color: var(--fill-color);\n",
              "    animation:\n",
              "      spin 1s steps(1) infinite;\n",
              "  }\n",
              "\n",
              "  @keyframes spin {\n",
              "    0% {\n",
              "      border-color: transparent;\n",
              "      border-bottom-color: var(--fill-color);\n",
              "      border-left-color: var(--fill-color);\n",
              "    }\n",
              "    20% {\n",
              "      border-color: transparent;\n",
              "      border-left-color: var(--fill-color);\n",
              "      border-top-color: var(--fill-color);\n",
              "    }\n",
              "    30% {\n",
              "      border-color: transparent;\n",
              "      border-left-color: var(--fill-color);\n",
              "      border-top-color: var(--fill-color);\n",
              "      border-right-color: var(--fill-color);\n",
              "    }\n",
              "    40% {\n",
              "      border-color: transparent;\n",
              "      border-right-color: var(--fill-color);\n",
              "      border-top-color: var(--fill-color);\n",
              "    }\n",
              "    60% {\n",
              "      border-color: transparent;\n",
              "      border-right-color: var(--fill-color);\n",
              "    }\n",
              "    80% {\n",
              "      border-color: transparent;\n",
              "      border-right-color: var(--fill-color);\n",
              "      border-bottom-color: var(--fill-color);\n",
              "    }\n",
              "    90% {\n",
              "      border-color: transparent;\n",
              "      border-bottom-color: var(--fill-color);\n",
              "    }\n",
              "  }\n",
              "</style>\n",
              "\n",
              "  <script>\n",
              "    async function quickchart(key) {\n",
              "      const quickchartButtonEl =\n",
              "        document.querySelector('#' + key + ' button');\n",
              "      quickchartButtonEl.disabled = true;  // To prevent multiple clicks.\n",
              "      quickchartButtonEl.classList.add('colab-df-spinner');\n",
              "      try {\n",
              "        const charts = await google.colab.kernel.invokeFunction(\n",
              "            'suggestCharts', [key], {});\n",
              "      } catch (error) {\n",
              "        console.error('Error during call to suggestCharts:', error);\n",
              "      }\n",
              "      quickchartButtonEl.classList.remove('colab-df-spinner');\n",
              "      quickchartButtonEl.classList.add('colab-df-quickchart-complete');\n",
              "    }\n",
              "    (() => {\n",
              "      let quickchartButtonEl =\n",
              "        document.querySelector('#df-877ceaf0-5597-40c1-92c8-d3dbe0cb09a6 button');\n",
              "      quickchartButtonEl.style.display =\n",
              "        google.colab.kernel.accessAllowed ? 'block' : 'none';\n",
              "    })();\n",
              "  </script>\n",
              "</div>\n",
              "\n",
              "    </div>\n",
              "  </div>\n"
            ],
            "application/vnd.google.colaboratory.intrinsic+json": {
              "type": "dataframe",
              "variable_name": "df_21_22",
              "summary": "{\n  \"name\": \"df_21_22\",\n  \"rows\": 10886,\n  \"fields\": [\n    {\n      \"column\": \"Year\",\n      \"properties\": {\n        \"dtype\": \"category\",\n        \"num_unique_values\": 2,\n        \"samples\": [\n          \"2020-2021\",\n          \"2021-2022\"\n        ],\n        \"semantic_type\": \"\",\n        \"description\": \"\"\n      }\n    },\n    {\n      \"column\": \"Student ID\",\n      \"properties\": {\n        \"dtype\": \"number\",\n        \"std\": 169226,\n        \"min\": 45,\n        \"max\": 999528,\n        \"num_unique_values\": 7439,\n        \"samples\": [\n          310576,\n          81779\n        ],\n        \"semantic_type\": \"\",\n        \"description\": \"\"\n      }\n    },\n    {\n      \"column\": \"Grade\",\n      \"properties\": {\n        \"dtype\": \"number\",\n        \"std\": 2,\n        \"min\": 3,\n        \"max\": 12,\n        \"num_unique_values\": 10,\n        \"samples\": [\n          9,\n          5\n        ],\n        \"semantic_type\": \"\",\n        \"description\": \"\"\n      }\n    },\n    {\n      \"column\": \"Building\",\n      \"properties\": {\n        \"dtype\": \"number\",\n        \"std\": 27,\n        \"min\": 410,\n        \"max\": 522,\n        \"num_unique_values\": 14,\n        \"samples\": [\n          474,\n          522\n        ],\n        \"semantic_type\": \"\",\n        \"description\": \"\"\n      }\n    },\n    {\n      \"column\": \"Race/Ethnicity\",\n      \"properties\": {\n        \"dtype\": \"number\",\n        \"std\": 2,\n        \"min\": 0,\n        \"max\": 9,\n        \"num_unique_values\": 9,\n        \"samples\": [\n          4,\n          0\n        ],\n        \"semantic_type\": \"\",\n        \"description\": \"\"\n      }\n    },\n    {\n      \"column\": \"FRL Status\",\n      \"properties\": {\n        \"dtype\": \"number\",\n        \"std\": null,\n        \"min\": null,\n        \"max\": null,\n        \"num_unique_values\": 0,\n        \"samples\": [],\n        \"semantic_type\": \"\",\n        \"description\": \"\"\n      }\n    },\n    {\n      \"column\": \"ELL Status\",\n      \"properties\": {\n        \"dtype\": \"category\",\n        \"num_unique_values\": 2,\n        \"samples\": [],\n        \"semantic_type\": \"\",\n        \"description\": \"\"\n      }\n    },\n    {\n      \"column\": \"SPED Status\",\n      \"properties\": {\n        \"dtype\": \"category\",\n        \"num_unique_values\": 2,\n        \"samples\": [],\n        \"semantic_type\": \"\",\n        \"description\": \"\"\n      }\n    },\n    {\n      \"column\": \"General Education Teacher ID\",\n      \"properties\": {\n        \"dtype\": \"category\",\n        \"num_unique_values\": 130,\n        \"samples\": [],\n        \"semantic_type\": \"\",\n        \"description\": \"\"\n      }\n    },\n    {\n      \"column\": \"ELA Teacher ID\",\n      \"properties\": {\n        \"dtype\": \"category\",\n        \"num_unique_values\": 195,\n        \"samples\": [],\n        \"semantic_type\": \"\",\n        \"description\": \"\"\n      }\n    },\n    {\n      \"column\": \"Math Teacher ID\",\n      \"properties\": {\n        \"dtype\": \"category\",\n        \"num_unique_values\": 186,\n        \"samples\": [],\n        \"semantic_type\": \"\",\n        \"description\": \"\"\n      }\n    },\n    {\n      \"column\": \"ELA Standardized Test\",\n      \"properties\": {\n        \"dtype\": \"category\",\n        \"num_unique_values\": 2,\n        \"samples\": [],\n        \"semantic_type\": \"\",\n        \"description\": \"\"\n      }\n    },\n    {\n      \"column\": \"Math Standardized Test\",\n      \"properties\": {\n        \"dtype\": \"category\",\n        \"num_unique_values\": 2,\n        \"samples\": [],\n        \"semantic_type\": \"\",\n        \"description\": \"\"\n      }\n    },\n    {\n      \"column\": \"ELA Score\",\n      \"properties\": {\n        \"dtype\": \"category\",\n        \"num_unique_values\": 622,\n        \"samples\": [],\n        \"semantic_type\": \"\",\n        \"description\": \"\"\n      }\n    },\n    {\n      \"column\": \"ELA Proficiency Level\",\n      \"properties\": {\n        \"dtype\": \"category\",\n        \"num_unique_values\": 5,\n        \"samples\": [],\n        \"semantic_type\": \"\",\n        \"description\": \"\"\n      }\n    },\n    {\n      \"column\": \"Math Score\",\n      \"properties\": {\n        \"dtype\": \"category\",\n        \"num_unique_values\": 620,\n        \"samples\": [],\n        \"semantic_type\": \"\",\n        \"description\": \"\"\n      }\n    },\n    {\n      \"column\": \"Math Proficiency Level\",\n      \"properties\": {\n        \"dtype\": \"category\",\n        \"num_unique_values\": 5,\n        \"samples\": [],\n        \"semantic_type\": \"\",\n        \"description\": \"\"\n      }\n    }\n  ]\n}"
            }
          },
          "metadata": {},
          "execution_count": 13
        }
      ],
      "source": [
        "df_21_22 = pd.read_excel('/content/drive/MyDrive/Data project folder/E3_Data Request_Completed DEC 2022_FINAL.xlsx', sheet_name= 'Student Data_FINAL')\n",
        "df_21_22.head()"
      ]
    },
    {
      "cell_type": "code",
      "source": [
        "df_21_22.info()"
      ],
      "metadata": {
        "colab": {
          "base_uri": "https://localhost:8080/"
        },
        "id": "0iCE3C3NQI0y",
        "outputId": "ba7fa707-7510-4b3b-93f1-46b30f984711"
      },
      "execution_count": 14,
      "outputs": [
        {
          "output_type": "stream",
          "name": "stdout",
          "text": [
            "<class 'pandas.core.frame.DataFrame'>\n",
            "RangeIndex: 10886 entries, 0 to 10885\n",
            "Data columns (total 17 columns):\n",
            " #   Column                        Non-Null Count  Dtype  \n",
            "---  ------                        --------------  -----  \n",
            " 0   Year                          10886 non-null  object \n",
            " 1   Student ID                    10886 non-null  int64  \n",
            " 2   Grade                         10886 non-null  int64  \n",
            " 3   Building                      10886 non-null  int64  \n",
            " 4   Race/Ethnicity                10886 non-null  int64  \n",
            " 5   FRL Status                    0 non-null      float64\n",
            " 6   ELL Status                    10886 non-null  object \n",
            " 7   SPED Status                   10886 non-null  object \n",
            " 8   General Education Teacher ID  4029 non-null   object \n",
            " 9   ELA Teacher ID                9045 non-null   object \n",
            " 10  Math Teacher ID               8757 non-null   object \n",
            " 11  ELA Standardized Test         10886 non-null  object \n",
            " 12  Math Standardized Test        10886 non-null  object \n",
            " 13  ELA Score                     7718 non-null   object \n",
            " 14  ELA Proficiency Level         7718 non-null   object \n",
            " 15  Math Score                    7703 non-null   object \n",
            " 16  Math Proficiency Level        7703 non-null   object \n",
            "dtypes: float64(1), int64(4), object(12)\n",
            "memory usage: 1.4+ MB\n"
          ]
        }
      ]
    },
    {
      "cell_type": "code",
      "execution_count": 15,
      "metadata": {
        "id": "EbYTuHG7qv4E"
      },
      "outputs": [],
      "source": [
        "df_21_22['Academic Year'] = '2021-2022'\n",
        "df_21_22['District'] = 'COLONIAL'\n",
        "\n",
        "df_21_22=df_21_22[['Student ID', 'Academic Year',\n",
        "                   'District', 'Building',\n",
        "                   'Grade', 'Race/Ethnicity',\n",
        "                   'ELA Teacher ID', 'ELA Score', 'ELA Proficiency Level',\n",
        "                   'Math Teacher ID', 'Math Score','Math Proficiency Level']]\n",
        "\n",
        "df_21_22=df_21_22.rename(columns={'Year':'Academic Year',})"
      ]
    },
    {
      "cell_type": "code",
      "execution_count": 19,
      "metadata": {
        "id": "vSy2_LWoqv4E",
        "colab": {
          "base_uri": "https://localhost:8080/",
          "height": 83
        },
        "outputId": "2a1f8aa2-4144-4a7b-8fe9-4ebe7b84f24d"
      },
      "outputs": [
        {
          "output_type": "execute_result",
          "data": {
            "text/plain": [
              "Empty DataFrame\n",
              "Columns: [Student ID, Academic Year, District, Building, Grade, Race/Ethnicity, ELA Teacher ID, ELA Score, ELA Proficiency Level, Math Teacher ID, Math Score, Math Proficiency Level]\n",
              "Index: []"
            ],
            "text/html": [
              "\n",
              "  <div id=\"df-18211db7-01b8-404a-87f2-6af8dcc58204\" class=\"colab-df-container\">\n",
              "    <div>\n",
              "<style scoped>\n",
              "    .dataframe tbody tr th:only-of-type {\n",
              "        vertical-align: middle;\n",
              "    }\n",
              "\n",
              "    .dataframe tbody tr th {\n",
              "        vertical-align: top;\n",
              "    }\n",
              "\n",
              "    .dataframe thead th {\n",
              "        text-align: right;\n",
              "    }\n",
              "</style>\n",
              "<table border=\"1\" class=\"dataframe\">\n",
              "  <thead>\n",
              "    <tr style=\"text-align: right;\">\n",
              "      <th></th>\n",
              "      <th>Student ID</th>\n",
              "      <th>Academic Year</th>\n",
              "      <th>District</th>\n",
              "      <th>Building</th>\n",
              "      <th>Grade</th>\n",
              "      <th>Race/Ethnicity</th>\n",
              "      <th>ELA Teacher ID</th>\n",
              "      <th>ELA Score</th>\n",
              "      <th>ELA Proficiency Level</th>\n",
              "      <th>Math Teacher ID</th>\n",
              "      <th>Math Score</th>\n",
              "      <th>Math Proficiency Level</th>\n",
              "    </tr>\n",
              "  </thead>\n",
              "  <tbody>\n",
              "  </tbody>\n",
              "</table>\n",
              "</div>\n",
              "    <div class=\"colab-df-buttons\">\n",
              "\n",
              "  <div class=\"colab-df-container\">\n",
              "    <button class=\"colab-df-convert\" onclick=\"convertToInteractive('df-18211db7-01b8-404a-87f2-6af8dcc58204')\"\n",
              "            title=\"Convert this dataframe to an interactive table.\"\n",
              "            style=\"display:none;\">\n",
              "\n",
              "  <svg xmlns=\"http://www.w3.org/2000/svg\" height=\"24px\" viewBox=\"0 -960 960 960\">\n",
              "    <path d=\"M120-120v-720h720v720H120Zm60-500h600v-160H180v160Zm220 220h160v-160H400v160Zm0 220h160v-160H400v160ZM180-400h160v-160H180v160Zm440 0h160v-160H620v160ZM180-180h160v-160H180v160Zm440 0h160v-160H620v160Z\"/>\n",
              "  </svg>\n",
              "    </button>\n",
              "\n",
              "  <style>\n",
              "    .colab-df-container {\n",
              "      display:flex;\n",
              "      gap: 12px;\n",
              "    }\n",
              "\n",
              "    .colab-df-convert {\n",
              "      background-color: #E8F0FE;\n",
              "      border: none;\n",
              "      border-radius: 50%;\n",
              "      cursor: pointer;\n",
              "      display: none;\n",
              "      fill: #1967D2;\n",
              "      height: 32px;\n",
              "      padding: 0 0 0 0;\n",
              "      width: 32px;\n",
              "    }\n",
              "\n",
              "    .colab-df-convert:hover {\n",
              "      background-color: #E2EBFA;\n",
              "      box-shadow: 0px 1px 2px rgba(60, 64, 67, 0.3), 0px 1px 3px 1px rgba(60, 64, 67, 0.15);\n",
              "      fill: #174EA6;\n",
              "    }\n",
              "\n",
              "    .colab-df-buttons div {\n",
              "      margin-bottom: 4px;\n",
              "    }\n",
              "\n",
              "    [theme=dark] .colab-df-convert {\n",
              "      background-color: #3B4455;\n",
              "      fill: #D2E3FC;\n",
              "    }\n",
              "\n",
              "    [theme=dark] .colab-df-convert:hover {\n",
              "      background-color: #434B5C;\n",
              "      box-shadow: 0px 1px 3px 1px rgba(0, 0, 0, 0.15);\n",
              "      filter: drop-shadow(0px 1px 2px rgba(0, 0, 0, 0.3));\n",
              "      fill: #FFFFFF;\n",
              "    }\n",
              "  </style>\n",
              "\n",
              "    <script>\n",
              "      const buttonEl =\n",
              "        document.querySelector('#df-18211db7-01b8-404a-87f2-6af8dcc58204 button.colab-df-convert');\n",
              "      buttonEl.style.display =\n",
              "        google.colab.kernel.accessAllowed ? 'block' : 'none';\n",
              "\n",
              "      async function convertToInteractive(key) {\n",
              "        const element = document.querySelector('#df-18211db7-01b8-404a-87f2-6af8dcc58204');\n",
              "        const dataTable =\n",
              "          await google.colab.kernel.invokeFunction('convertToInteractive',\n",
              "                                                    [key], {});\n",
              "        if (!dataTable) return;\n",
              "\n",
              "        const docLinkHtml = 'Like what you see? Visit the ' +\n",
              "          '<a target=\"_blank\" href=https://colab.research.google.com/notebooks/data_table.ipynb>data table notebook</a>'\n",
              "          + ' to learn more about interactive tables.';\n",
              "        element.innerHTML = '';\n",
              "        dataTable['output_type'] = 'display_data';\n",
              "        await google.colab.output.renderOutput(dataTable, element);\n",
              "        const docLink = document.createElement('div');\n",
              "        docLink.innerHTML = docLinkHtml;\n",
              "        element.appendChild(docLink);\n",
              "      }\n",
              "    </script>\n",
              "  </div>\n",
              "\n",
              "\n",
              "    </div>\n",
              "  </div>\n"
            ],
            "application/vnd.google.colaboratory.intrinsic+json": {
              "type": "dataframe",
              "repr_error": "Out of range float values are not JSON compliant: nan"
            }
          },
          "metadata": {},
          "execution_count": 19
        }
      ],
      "source": [
        "df_21_22.loc[df_21_22['Student ID'].duplicated()].sort_values(\"Student ID\")\n"
      ]
    },
    {
      "cell_type": "code",
      "source": [
        "df_21_22=df_21_22.loc[~df_21_22['Student ID'].duplicated()]"
      ],
      "metadata": {
        "id": "ZcCSlHMJgsh9"
      },
      "execution_count": 18,
      "outputs": []
    },
    {
      "cell_type": "code",
      "execution_count": 40,
      "metadata": {
        "id": "93QxrTAzqv4F"
      },
      "outputs": [],
      "source": [
        "#select the columns with ela score and proficiency.\n",
        "df_21_22_ela=df_21_22[[\n",
        "    'Student ID','Academic Year','District', 'Grade','Race/Ethnicity',\n",
        "    'ELA Teacher ID','ELA Score','ELA Proficiency Level','Building']]\n",
        "df_21_22_ela['Course']='ELA'\n",
        "df_21_22_ela = df_21_22_ela.dropna(\n",
        "    how='any',\n",
        "    subset=['ELA Teacher ID', 'ELA Score', 'ELA Proficiency Level'])\n",
        "df_21_22_ela=df_21_22_ela.rename(\n",
        "    columns={'ELA Teacher ID':'Teacher ID',\n",
        "             'ELA Score':'Score',\n",
        "             'ELA Proficiency Level':'Proficiency Level'})\n",
        "\n",
        "\n"
      ]
    },
    {
      "cell_type": "code",
      "source": [
        "df_21_22_ela['Score'] = pd.to_numeric(df_21_22_ela['Score'], errors='coerce')\n",
        "df_21_22_ela['Score'].isnull().sum()\n"
      ],
      "metadata": {
        "id": "FKbDb5QAiMPQ"
      },
      "execution_count": 41,
      "outputs": []
    },
    {
      "cell_type": "code",
      "source": [
        "df_21_22_ela = df_21_22_ela[~df_21_22_ela['Score'].isnull()].reset_index(drop=True)\n",
        "df_21_22_ela['Score'] = df_21_22_ela['Score'].astype('int')\n",
        "df_21_22_ela = df_21_22_ela.drop(df_21_22_ela[df_21_22_ela['Teacher ID'] == '-'].index)\n"
      ],
      "metadata": {
        "colab": {
          "base_uri": "https://localhost:8080/"
        },
        "id": "XlaZeDLajKFA",
        "outputId": "41c69189-9637-416b-bf00-d31fa4cac77f"
      },
      "execution_count": 45,
      "outputs": [
        {
          "output_type": "execute_result",
          "data": {
            "text/plain": [
              "array([141246, 39698, 40651, 156375, 192917, 183032, 114163, 143422,\n",
              "       197052, 33042, 190363, 186307, 169986, 130564, 166957, 120060,\n",
              "       140489, 89522, 190789, 182521, 99505, 107666, 45544, 49336, 113903,\n",
              "       77935, 58003, 30068, 91854, 172622, 192908, 185966, 100875, 169168,\n",
              "       171935, 13244, 177174, 58277, 176562, 188477, 181252, 95344,\n",
              "       133691, 112727, 136590, 182468, 185097, 157951, 95122, 187800,\n",
              "       179288, 178477, 54826, 95244, 195694, 133166, 102559, 89528,\n",
              "       177443, 139062, 130238, 151068, 182452, 177085, 129202, 141426,\n",
              "       171754, 187631, 20322, 156750, 178474, 127380, 189281, 119617,\n",
              "       176356, 128414, 197444, 135101, 187497, 94090, 193236, 162047,\n",
              "       188459, 153612, 148368, 192919, 177173, 135979, 137254, 122024,\n",
              "       145796, 156826, 182519, 179992, 171549, 104650, 192911, 113759,\n",
              "       160275, 151236, 182511, 191328, 98542, 58281, 59825, 187031,\n",
              "       166954, 197520, 89713, 197053, 131106, 197005, 99381, 113065,\n",
              "       32717, 177803, 89535, 170594, 15618, 71515, 160738, 126128, 171706,\n",
              "       80809, 157225, 101664, 182442, 162493, 187814, 83586, 57937, 56864,\n",
              "       77644, 95423, 132686, 138610, 167693, 34159, 187801, 145968,\n",
              "       158094, 146188, 45741, 'FH', 'SK', 171564, 160484, 'DP', 151496,\n",
              "       182583], dtype=object)"
            ]
          },
          "metadata": {},
          "execution_count": 45
        }
      ]
    },
    {
      "cell_type": "code",
      "execution_count": 46,
      "metadata": {
        "id": "P0RTYy4Kqv4F"
      },
      "outputs": [],
      "source": [
        "df_21_22_math=df_21_22[[\n",
        "    'Student ID','Academic Year','District', 'Grade','Race/Ethnicity',\n",
        "    'Math Teacher ID','Math Score','Math Proficiency Level','Building']]\n",
        "df_21_22_math['Course']='MATH'\n",
        "df_21_22_math = df_21_22_math.dropna(\n",
        "    how='any',\n",
        "    subset=['Math Teacher ID', 'Math Score', 'Math Proficiency Level'])\n",
        "df_21_22_math=df_21_22_math.rename(\n",
        "    columns={'Math Teacher ID':'Teacher ID',\n",
        "             'Math Score':'Score',\n",
        "             'Math Proficiency Level':'Proficiency Level'})\n",
        "\n",
        "df_21_22_math['Score'] = pd.to_numeric(df_21_22_math['Score'], errors='coerce')\n",
        "df_21_22_math = df_21_22_math[~df_21_22_math['Score'].isnull()].reset_index(drop=True)\n",
        "df_21_22_math['Score'] = df_21_22_math['Score'].astype('int')\n"
      ]
    },
    {
      "cell_type": "code",
      "source": [
        "df_21_22_math = df_21_22_math.drop(df_21_22_math[df_21_22_math['Teacher ID'] == '-'].index)\n",
        "df_21_22_math['Teacher ID'].unique()\n"
      ],
      "metadata": {
        "colab": {
          "base_uri": "https://localhost:8080/"
        },
        "id": "kn8RKnJrmDVo",
        "outputId": "cf9c4637-2390-4d9f-ff38-e047660a109f"
      },
      "execution_count": 51,
      "outputs": [
        {
          "output_type": "execute_result",
          "data": {
            "text/plain": [
              "array([141246, 39698, 40651, 156375, 192917, 183032, 114163, 143422,\n",
              "       197052, 130564, 33042, 190363, 186307, 169986, 166957, 120060,\n",
              "       140489, 89522, 190789, 182521, 99505, 107666, 45544, 49336, 113903,\n",
              "       77935, 58003, 30068, 91854, 172622, 192908, 185966, 100875, 169168,\n",
              "       171935, 13244, 177174, 58277, 176562, 188477, 181252, 95344,\n",
              "       133691, 112727, 136590, 182468, 185097, 157951, 95122, 187800,\n",
              "       179288, 178477, 54826, 95244, 195694, 133166, 102559, 89528,\n",
              "       177443, 139062, 130238, 151068, 182452, 177085, 129202, 141426,\n",
              "       171754, 187631, 20322, 156750, 178474, 127380, 189281, 119617,\n",
              "       176356, 144767, 128414, 197444, 135101, 187497, 94090, 193236,\n",
              "       162047, 188459, 153612, 148368, 176397, 182944, 13174, 34320,\n",
              "       57563, 132696, 31852, 113897, 182519, 111708, 187633, 180500,\n",
              "       182448, 157681, 197090, 185003, 107715, 100915, 187144, 89700,\n",
              "       34082, 187031, 166954, 197520, 94024, 124694, 151913, 171721,\n",
              "       91276, 195431, 149503, 173316, 89535, 140474, 50981, 117543,\n",
              "       170163, 30617, 136365, 98797, 83247, 132017, 131122, 118941,\n",
              "       192902, 77644, 95423, 132686, 138610, 167693, 144961, 157041,\n",
              "       179992, 113890, 146188, 187819, 57979, 191583, 130789],\n",
              "      dtype=object)"
            ]
          },
          "metadata": {},
          "execution_count": 51
        }
      ]
    },
    {
      "cell_type": "code",
      "execution_count": 52,
      "metadata": {
        "id": "5E5eMu98qv4G"
      },
      "outputs": [],
      "source": [
        "#append both ela and maths score\n",
        "df_21_22 = pd.concat([df_21_22_ela, df_21_22_math], axis=0)"
      ]
    },
    {
      "cell_type": "code",
      "execution_count": 53,
      "metadata": {
        "id": "DSWavQZPqv4H"
      },
      "outputs": [],
      "source": [
        "\n",
        "df_c1 = (df_21_22.groupby('Student ID')['District'].count().reset_index())\n",
        "assert len(df_c1[df_c1['District']>2]) == 0"
      ]
    },
    {
      "cell_type": "code",
      "source": [
        "df_new=pd.read_csv(\"/content/drive/MyDrive/Data project folder/Colonial Student File 21.csv\")\n",
        "df_school_match= (df_new[['Building', 'School']])\n"
      ],
      "metadata": {
        "id": "hfOMG5A-mRGy"
      },
      "execution_count": 55,
      "outputs": []
    },
    {
      "cell_type": "code",
      "execution_count": 56,
      "metadata": {
        "id": "ROzYKoAqqv4H"
      },
      "outputs": [],
      "source": [
        "df_21_22.to_csv('/content/drive/MyDrive/Data project folder/Colonial Student File 22_clean.csv',\n",
        "                index=False, encoding='utf-8')"
      ]
    },
    {
      "cell_type": "code",
      "execution_count": null,
      "metadata": {
        "id": "uDGwzmwkqv4I"
      },
      "outputs": [],
      "source": []
    }
  ],
  "metadata": {
    "kernelspec": {
      "display_name": "e3-value-add",
      "language": "python",
      "name": "python3"
    },
    "language_info": {
      "codemirror_mode": {
        "name": "ipython",
        "version": 3
      },
      "file_extension": ".py",
      "mimetype": "text/x-python",
      "name": "python",
      "nbconvert_exporter": "python",
      "pygments_lexer": "ipython3",
      "version": "3.10.13"
    },
    "colab": {
      "provenance": [],
      "include_colab_link": true
    }
  },
  "nbformat": 4,
  "nbformat_minor": 0
}